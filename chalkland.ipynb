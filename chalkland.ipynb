{
 "cells": [
  {
   "cell_type": "code",
   "execution_count": null,
   "metadata": {},
   "outputs": [],
   "source": [
    "class Team:\n",
    "    def __init__(team, name, location, coach, wins):\n",
    "        team.name = name\n",
    "        team.location = location\n",
    "        team.coach = coach\n",
    "        team.wins = wins\n",
    "        team.players = []\n",
    "\n",
    "    def add_player(team, player):\n",
    "        team.players.append(player)\n",
    "\n",
    "    def total_points(team):\n",
    "        return sum(player.points for player in team.players)\n",
    "    \n",
    "    def add_win(team, win):\n",
    "        team.wins += win\n",
    "\n",
    "    def __repr__(team):\n",
    "        return print(team.name, team.wins)\n",
    "\n"
   ]
  },
  {
   "cell_type": "code",
   "execution_count": null,
   "metadata": {},
   "outputs": [],
   "source": [
    "class Player:\n",
    "    def __init__(self, name, position, points=0):\n",
    "        self.name = name\n",
    "        self.position = position\n",
    "        self.points = points\n",
    "\n",
    "    def add_points(self, points):\n",
    "        self.points += points\n",
    "\n",
    "    def __repr__(self):\n",
    "        return f\"{self.name} ({self.position}) - {self.points} pts\""
   ]
  },
  {
   "cell_type": "code",
   "execution_count": 32,
   "metadata": {},
   "outputs": [],
   "source": [
    "Saint_Louga = Team('Saint Louga', '6423', 'Kia', 0)"
   ]
  },
  {
   "cell_type": "code",
   "execution_count": 35,
   "metadata": {},
   "outputs": [],
   "source": [
    "Saint_Louga.add_win(1)"
   ]
  },
  {
   "cell_type": "code",
   "execution_count": 36,
   "metadata": {},
   "outputs": [
    {
     "name": "stdout",
     "output_type": "stream",
     "text": [
      "{'name': 'Saint Louga', 'location': '6423', 'coach': 'Kia', 'wins': 2}\n"
     ]
    }
   ],
   "source": [
    "print(Saint_Louga.__dict__)"
   ]
  },
  {
   "cell_type": "code",
   "execution_count": null,
   "metadata": {},
   "outputs": [],
   "source": []
  }
 ],
 "metadata": {
  "kernelspec": {
   "display_name": "Python 3",
   "language": "python",
   "name": "python3"
  },
  "language_info": {
   "codemirror_mode": {
    "name": "ipython",
    "version": 3
   },
   "file_extension": ".py",
   "mimetype": "text/x-python",
   "name": "python",
   "nbconvert_exporter": "python",
   "pygments_lexer": "ipython3",
   "version": "3.12.4"
  }
 },
 "nbformat": 4,
 "nbformat_minor": 2
}
